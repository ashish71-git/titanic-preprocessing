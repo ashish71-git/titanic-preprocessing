import pandas as pd
import numpy as np
import seaborn as sns
import matplotlib.pyplot as plt
from sklearn.preprocessing import StandardScaler, LabelEncoder

# Load dataset
df = pd.read_csv('titanic.csv')

# Basic info
print(df.info())
print(df.describe())

# Handle missing values
df['Age'].fillna(df['Age'].median(), inplace=True)
df['Embarked'].fillna(df['Embarked'].mode()[0], inplace=True)
df.drop(columns=['Cabin'], inplace=True)

# Encode categorical variables
le = LabelEncoder()
df['Sex'] = le.fit_transform(df['Sex'])
df['Embarked'] = le.fit_transform(df['Embarked'])

# Normalize numerical features
scaler = StandardScaler()
df[['Age', 'Fare']] = scaler.fit_transform(df[['Age', 'Fare']])

# Visualize outliers
sns.boxplot(data=df[['Age', 'Fare']])
plt.show()

# Remove outliers (example: using z-score)
from scipy.stats import zscore
df = df[(np.abs(zscore(df[['Age', 'Fare']])) < 3).all(axis=1)]

# Final cleaned data
print(df.head())
